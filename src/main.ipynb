{
 "cells": [
  {
   "cell_type": "code",
   "execution_count": 1,
   "metadata": {},
   "outputs": [
    {
     "name": "stderr",
     "output_type": "stream",
     "text": [
      "c:\\miniconda3\\envs\\faiss_env\\Lib\\site-packages\\tqdm\\auto.py:21: TqdmWarning: IProgress not found. Please update jupyter and ipywidgets. See https://ipywidgets.readthedocs.io/en/stable/user_install.html\n",
      "  from .autonotebook import tqdm as notebook_tqdm\n",
      "2024-07-04 01:36:43,199 - INFO - Initializing FAISS embedding class\n",
      "2024-07-04 01:36:50,838 - INFO - Loading index from ../data/faiss_index_file1k.index\n",
      "2024-07-04 01:36:50,843 - INFO - Index loaded successfully\n",
      "2024-07-04 01:36:50,850 - INFO - Metadata loaded successfully\n",
      "2024-07-04 01:36:50,850 - INFO - Loading the index took 0.01 seconds\n",
      "2024-07-04 01:36:50,851 - INFO - Searching for top 1 similar questions for the query: 'البنوك الربوية'\n"
     ]
    },
    {
     "ename": "TypeError",
     "evalue": "'NoneType' object is not subscriptable",
     "output_type": "error",
     "traceback": [
      "\u001b[1;31m---------------------------------------------------------------------------\u001b[0m",
      "\u001b[1;31mTypeError\u001b[0m                                 Traceback (most recent call last)",
      "Cell \u001b[1;32mIn[1], line 21\u001b[0m\n\u001b[0;32m     19\u001b[0m query \u001b[38;5;241m=\u001b[39m \u001b[38;5;124m\"\u001b[39m\u001b[38;5;124mالبنوك الربوية\u001b[39m\u001b[38;5;124m\"\u001b[39m\n\u001b[0;32m     20\u001b[0m start_time \u001b[38;5;241m=\u001b[39m time\u001b[38;5;241m.\u001b[39mtime()\n\u001b[1;32m---> 21\u001b[0m results \u001b[38;5;241m=\u001b[39m \u001b[43mfaiss_embedding\u001b[49m\u001b[38;5;241;43m.\u001b[39;49m\u001b[43msearch\u001b[49m\u001b[43m(\u001b[49m\u001b[43mquery\u001b[49m\u001b[43m,\u001b[49m\u001b[43m \u001b[49m\u001b[43mtop_k\u001b[49m\u001b[38;5;241;43m=\u001b[39;49m\u001b[38;5;241;43m1\u001b[39;49m\u001b[43m)\u001b[49m\n\u001b[0;32m     22\u001b[0m logging\u001b[38;5;241m.\u001b[39minfo(\u001b[38;5;124mf\u001b[39m\u001b[38;5;124m\"\u001b[39m\u001b[38;5;124mSearch took \u001b[39m\u001b[38;5;132;01m{\u001b[39;00mtime\u001b[38;5;241m.\u001b[39mtime()\u001b[38;5;250m \u001b[39m\u001b[38;5;241m-\u001b[39m\u001b[38;5;250m \u001b[39mstart_time\u001b[38;5;132;01m:\u001b[39;00m\u001b[38;5;124m.2f\u001b[39m\u001b[38;5;132;01m}\u001b[39;00m\u001b[38;5;124m seconds\u001b[39m\u001b[38;5;124m\"\u001b[39m)\n\u001b[0;32m     24\u001b[0m \u001b[38;5;66;03m# Print the search results\u001b[39;00m\n",
      "File \u001b[1;32mc:\\Abdullah\\NU\\Spring'24\\NLP\\Fatwa\\src\\FAISS.py:101\u001b[0m, in \u001b[0;36mFAISSEmbedding.search\u001b[1;34m(self, query, top_k)\u001b[0m\n\u001b[0;32m     98\u001b[0m \u001b[38;5;28;01mwith\u001b[39;00m torch\u001b[38;5;241m.\u001b[39mno_grad():\n\u001b[0;32m     99\u001b[0m     outputs \u001b[38;5;241m=\u001b[39m \u001b[38;5;28mself\u001b[39m\u001b[38;5;241m.\u001b[39mmodel(\u001b[38;5;241m*\u001b[39m\u001b[38;5;241m*\u001b[39minputs)\n\u001b[1;32m--> 101\u001b[0m hidden_states \u001b[38;5;241m=\u001b[39m \u001b[43moutputs\u001b[49m\u001b[38;5;241;43m.\u001b[39;49m\u001b[43mhidden_states\u001b[49m\u001b[43m[\u001b[49m\u001b[38;5;241;43m-\u001b[39;49m\u001b[38;5;241;43m1\u001b[39;49m\u001b[43m]\u001b[49m  \u001b[38;5;66;03m# Get the last layer's hidden state\u001b[39;00m\n\u001b[0;32m    102\u001b[0m query_vector \u001b[38;5;241m=\u001b[39m hidden_states\u001b[38;5;241m.\u001b[39mmean(dim\u001b[38;5;241m=\u001b[39m\u001b[38;5;241m1\u001b[39m)\u001b[38;5;241m.\u001b[39mcpu()\u001b[38;5;241m.\u001b[39mnumpy()\n\u001b[0;32m    103\u001b[0m distances, indices \u001b[38;5;241m=\u001b[39m \u001b[38;5;28mself\u001b[39m\u001b[38;5;241m.\u001b[39mindex\u001b[38;5;241m.\u001b[39msearch(query_vector, top_k)\n",
      "\u001b[1;31mTypeError\u001b[0m: 'NoneType' object is not subscriptable"
     ]
    }
   ],
   "source": [
    "import time\n",
    "import logging\n",
    "from FAISS import FAISSEmbedding\n",
    "from tokens import TOKEN_API\n",
    "\n",
    "# Configure logging\n",
    "logging.basicConfig(level=logging.INFO, format='%(asctime)s - %(levelname)s - %(message)s')\n",
    "\n",
    "if __name__ == \"__main__\":\n",
    "    model_name = \"aubmindlab/aragpt2-large\"\n",
    "    faiss_embedding = FAISSEmbedding(model_name, TOKEN_API)\n",
    "\n",
    "    # Load the index from a file\n",
    "    start_time = time.time()\n",
    "    faiss_embedding.load_index('../data/faiss_index_file1k.index', '../data/metadata1k.pkl')\n",
    "    logging.info(f\"Loading the index took {time.time() - start_time:.2f} seconds\")\n",
    "\n",
    "    # Perform a search for the top-k similar questions\n",
    "    query = \"البنوك الربوية\"\n",
    "    start_time = time.time()\n",
    "    results = faiss_embedding.search(query, top_k=1)\n",
    "    logging.info(f\"Search took {time.time() - start_time:.2f} seconds\")\n",
    "\n",
    "    # Print the search results\n",
    "    if results:\n",
    "        for question, answer, distance in results:\n",
    "            logging.info(f\"Question: {question},\\n Answer: {answer},\\n Distance: {distance}\")\n",
    "    else:\n",
    "        logging.info(\"No results found.\")"
   ]
  }
 ],
 "metadata": {
  "kernelspec": {
   "display_name": "base",
   "language": "python",
   "name": "python3"
  },
  "language_info": {
   "codemirror_mode": {
    "name": "ipython",
    "version": 3
   },
   "file_extension": ".py",
   "mimetype": "text/x-python",
   "name": "python",
   "nbconvert_exporter": "python",
   "pygments_lexer": "ipython3",
   "version": "3.11.5"
  }
 },
 "nbformat": 4,
 "nbformat_minor": 2
}
