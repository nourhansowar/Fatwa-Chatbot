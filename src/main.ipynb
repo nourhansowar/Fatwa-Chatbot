{
 "cells": [
  {
   "cell_type": "code",
   "execution_count": 1,
   "metadata": {},
   "outputs": [
    {
     "name": "stderr",
     "output_type": "stream",
     "text": [
      "c:\\miniconda3\\envs\\faiss_env\\Lib\\site-packages\\tqdm\\auto.py:21: TqdmWarning: IProgress not found. Please update jupyter and ipywidgets. See https://ipywidgets.readthedocs.io/en/stable/user_install.html\n",
      "  from .autonotebook import tqdm as notebook_tqdm\n",
      "2024-07-06 23:01:06,780 - INFO - Initializing FAISS embedding class\n"
     ]
    }
   ],
   "source": [
    "from FAISS import *\n",
    "from tokens import TOKEN_API\n",
    "csv_file_path = '../data/faq_data.csv'\n",
    "\n",
    "if __name__ == \"__main__\":\n",
    "    \n",
    "    # Use the model from the CohereForAI collection\n",
    "    # model_name = \"CohereForAI/aya-23-35B\"\n",
    "    model_name = \"aubmindlab/aragpt2-large\"\n",
    "    # model_name = 'core42/jais-13b'\n",
    "    faiss_embedding = FAISSEmbedding(model_name, TOKEN_API)"
   ]
  },
  {
   "cell_type": "code",
   "execution_count": 2,
   "metadata": {},
   "outputs": [
    {
     "name": "stderr",
     "output_type": "stream",
     "text": [
      "2024-07-06 23:01:19,983 - INFO - Loading data from ../data/faq_data.csv\n",
      "2024-07-06 23:01:22,899 - INFO - Data loaded successfully, shape: (200, 4)\n",
      "2024-07-06 23:01:22,907 - INFO - Loading data took 2.92 seconds\n",
      "2024-07-06 23:01:22,908 - INFO - Creating embeddings for the dataset\n",
      "2024-07-06 23:01:22,908 - INFO - Creating embeddings for the 200 titles in batches of 32\n"
     ]
    },
    {
     "name": "stdout",
     "output_type": "stream",
     "text": [
      "   ID                                            title  \\\n",
      "0  15               الشراء عن طريق البنوك الربوية حرام   \n",
      "1  32  لابد من حصر الورثة لتتم قسمة التركة بصورة شرعية   \n",
      "2  31   لا ينبغي للموظف أن يخالف الشرع ليحصل على إجازة   \n",
      "3  36                                 أحكام سجود السهو   \n",
      "4  30              إذا أرضعت الأخت أخاها صار ابناً لها   \n",
      "\n",
      "                                                ques  \\\n",
      "0  ما حكم شراء السيارة بالأقساط المريحة من بنك رب...   \n",
      "1  امرأة توفيت ولها مبلغ من المال ، ولها زوج طاعن...   \n",
      "2       ما حكم الإجازات المرضية فى حالة مرض أولادي ؟   \n",
      "3  ما هو سجود السهو ، كيفيته، ووقته؟ وما حكم من ش...   \n",
      "4  هل يمكن للأخت أن ترضع أخاها، في حال مرض الأم؟ ...   \n",
      "\n",
      "                                                 ans  \n",
      "0  فأساس عمل البنوك الربوية قائم على تعاطي الربا ...  \n",
      "1  الحمد لله والصلاة والسلام على رسول الله وآله و...  \n",
      "2  فالإجازة المرضية -فيما نعلم- تحتاج إلى تقرير ط...  \n",
      "3  الحمد لله والصلاة والسلام على رسول الله وآله و...  \n",
      "4  الحمد لله والصلاة والسلام على رسول الله وآله و...  \n"
     ]
    },
    {
     "name": "stderr",
     "output_type": "stream",
     "text": [
      "2024-07-06 23:01:51,738 - INFO - Creating embeddings for the 200 questions in batches of 32\n",
      "2024-07-06 23:11:27,771 - INFO - Creating embeddings for the 200 answers in batches of 32\n",
      "2024-07-06 23:34:59,036 - INFO - Embeddings created, shape: (200, 3840)\n",
      "2024-07-06 23:34:59,125 - INFO - Example title embedding: [-0.5740424   1.1697397  -1.7075132  ... -0.9135499  -0.01291466\n",
      " -0.0532702 ]\n",
      "2024-07-06 23:34:59,128 - INFO - Example question embedding: [-0.31313607  0.12136937  0.1874694  ... -1.4571416  -0.56797427\n",
      "  0.23695548]\n",
      "2024-07-06 23:34:59,129 - INFO - Example answer embedding: [-0.0244332   0.04480639 -0.5421863  ... -0.7117491  -1.808919\n",
      " -0.27265933]\n",
      "2024-07-06 23:34:59,172 - INFO - Creating embeddings took 2016.26 seconds\n",
      "2024-07-06 23:34:59,177 - INFO - Building FAISS index\n",
      "2024-07-06 23:34:59,208 - INFO - FAISS index built\n",
      "2024-07-06 23:34:59,209 - INFO - Index total vectors: 200\n",
      "2024-07-06 23:34:59,210 - INFO - Index dimension: 3840\n",
      "2024-07-06 23:34:59,213 - INFO - Building the index took 0.04 seconds\n"
     ]
    }
   ],
   "source": [
    "# Load data from a CSV file\n",
    "start_time = time.time()\n",
    "faiss_embedding.load_csv_data(csv_file_path, rows=200)\n",
    "logging.info(f\"Loading data took {time.time() - start_time:.2f} seconds\")\n",
    "\n",
    "# Create embeddings for the questions\n",
    "start_time = time.time()\n",
    "faiss_embedding.create_embeddings(batch_size=32)\n",
    "logging.info(f\"Creating embeddings took {time.time() - start_time:.2f} seconds\")\n",
    "\n",
    "# Build the FAISS index\n",
    "start_time = time.time()\n",
    "faiss_embedding.build_index()\n",
    "logging.info(f\"Building the index took {time.time() - start_time:.2f} seconds\")"
   ]
  },
  {
   "cell_type": "code",
   "execution_count": 3,
   "metadata": {},
   "outputs": [
    {
     "name": "stderr",
     "output_type": "stream",
     "text": [
      "2024-07-06 23:34:59,368 - INFO - Saving FAISS index to ../data/faiss_index_file.index\n",
      "2024-07-06 23:34:59,469 - INFO - FAISS index and metadata saved\n",
      "2024-07-06 23:34:59,470 - INFO - Saving the index took 0.10 seconds\n"
     ]
    }
   ],
   "source": [
    "# Save the index to a file\n",
    "start_time = time.time()\n",
    "faiss_embedding.save_index('../data/faiss_index_file.index', '../data/metadata.pkl')\n",
    "logging.info(f\"Saving the index took {time.time() - start_time:.2f} seconds\")"
   ]
  },
  {
   "cell_type": "code",
   "execution_count": 9,
   "metadata": {},
   "outputs": [
    {
     "name": "stderr",
     "output_type": "stream",
     "text": [
      "2024-07-06 23:40:18,499 - INFO - Initializing FAISS embedding class\n",
      "2024-07-06 23:40:24,684 - INFO - Loading FAISS index from ../data/faiss_index_file.index\n",
      "2024-07-06 23:40:24,692 - INFO - FAISS index and metadata loaded\n",
      "2024-07-06 23:40:24,692 - INFO - Loading the index took 0.01 seconds\n",
      "2024-07-06 23:40:24,692 - INFO - Searching for top 1 similar questions for the query: 'تسديد الضرائب من مال الربا لا يجوز'\n",
      "2024-07-06 23:40:25,367 - INFO - Query embedding: [[-0.05695949 -0.04194687  0.09636195 ... -0.41000977  0.22788182\n",
      "  -0.082684  ]]\n",
      "2024-07-06 23:40:25,367 - INFO - Query vector shape: (1, 3840)\n",
      "2024-07-06 23:40:25,367 - INFO - Search completed for query: 'تسديد الضرائب من مال الربا لا يجوز'\n",
      "2024-07-06 23:40:25,367 - INFO - Results: [{'title': 'تسديد الضرائب من مال الربا لا يجوز', 'question': 'هل يجوز تسديد الضرائب والتبرعات للمصلحة العامة التى تفرض علينا من فوائد البنوك؟', 'answer': 'الحمد لله والصلاة والسلام على رسول الله وآله وصحبه وسلم أما بعد:\\nفإن فوائد البنوك : إن كانت ربوية - لا يجوز للمسلم أن ينتفع بها لأنها مال محرم على العبد المسلم أكله ، قال صلى الله عليه وسلم : \"درهم من ربا أشد عند الله من ثلاثين زنية في الإسلام \" رواه أحمد والدار قطني من حديث عبد الله بن حنظلة وقال \" ست وثلاثين\" .\\nوالواجب على المسلم أولاً أن يتوب إلى الله جل وعلا فخطر الربا عظيم وقد أعلن الله الحرب على متعاطيه فقال: (يا أيها الذين آمنوا اتقوا الله وذروا ما بقي من الربا إن كنتم مؤمنين * فإن لم تفعلوا فأذنوا بحرب من الله ورسوله …) [البقرة: 278-279] ثم إن من توبته أن يأخذ رأس ماله ويتخلص من الباقي برده لصاحبه إن كان معيناً قال تعالى: (فإن تبتم فلكم رؤوس أموالكم لا تظلمون ولا تظلمون) [البقرة: 279] فإن كان غير معين فعليه التخلص من هذا المال بأن يعطيه للفقراء والمساكين، ولا يجوز له أن يضعه في بناء مسجد ونحوه، لأن الله طيب لا يقبل إلا طيباً كما صح في الحديث ، فلك أن تضعه في التبرعات للمصلحة العامة، كالفقراء والمجاهدين، غير مسجد ونحوه كما تقدم .\\nوكونك تسدد منه الضرائب فإن ذلك لا يجوز أيضاً لأنك بذلك تكون قد استفدت منه لمصلحتك، وهذا ينافي التخلص من المال الحرام .'}]\n",
      "2024-07-06 23:40:25,367 - INFO - Distances: [[1004.0967]]\n",
      "2024-07-06 23:40:25,374 - INFO - Search took 0.68 seconds\n"
     ]
    }
   ],
   "source": [
    "import time\n",
    "import logging\n",
    "from FAISS import FAISSEmbedding\n",
    "from tokens import TOKEN_API\n",
    "\n",
    "# Configure logging\n",
    "logging.basicConfig(level=logging.INFO, format='%(asctime)s - %(levelname)s - %(message)s')\n",
    "\n",
    "if __name__ == \"__main__\":\n",
    "    model_name = \"aubmindlab/aragpt2-large\"\n",
    "    faiss_embedding = FAISSEmbedding(model_name, TOKEN_API)\n",
    "\n",
    "    # Load the index from a file with METRIC_INNER_PRODUCT assumed to be set during index creation\n",
    "    start_time = time.time()\n",
    "    # Assuming load_index can accept a metric parameter or the index is already using METRIC_INNER_PRODUCT\n",
    "    faiss_embedding.load_index('../data/faiss_index_file.index', '../data/metadata.pkl')\n",
    "    logging.info(f\"Loading the index took {time.time() - start_time:.2f} seconds\")\n",
    "\n",
    "    # Perform a search for the top-k similar questions\n",
    "    query = \"تسديد الضرائب من مال الربا لا يجوز\"\n",
    "    start_time = time.time()\n",
    "    result = faiss_embedding.search(query, top_k=1)\n",
    "    logging.info(f\"Search took {time.time() - start_time:.2f} seconds\")"
   ]
  }
 ],
 "metadata": {
  "kernelspec": {
   "display_name": "base",
   "language": "python",
   "name": "python3"
  },
  "language_info": {
   "codemirror_mode": {
    "name": "ipython",
    "version": 3
   },
   "file_extension": ".py",
   "mimetype": "text/x-python",
   "name": "python",
   "nbconvert_exporter": "python",
   "pygments_lexer": "ipython3",
   "version": "3.11.5"
  }
 },
 "nbformat": 4,
 "nbformat_minor": 2
}
