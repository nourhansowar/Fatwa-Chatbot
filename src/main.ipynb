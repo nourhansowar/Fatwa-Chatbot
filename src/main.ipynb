{
 "cells": [
  {
   "cell_type": "code",
   "execution_count": 9,
   "metadata": {},
   "outputs": [
    {
     "name": "stdout",
     "output_type": "stream",
     "text": [
      "Initializing FAISS embedding class\n",
      "Initializing tokenizer \n",
      "Initializing Model \n"
     ]
    }
   ],
   "source": [
    "from FAISS import *\n",
    "from tokens import *\n",
    "csv_file_path = '../data/faq_data.csv'\n",
    "\n",
    "if __name__ == \"__main__\":\n",
    "    \n",
    "    faiss_embedding = FAISSEmbedding()"
   ]
  },
  {
   "cell_type": "code",
   "execution_count": 10,
   "metadata": {},
   "outputs": [
    {
     "name": "stderr",
     "output_type": "stream",
     "text": [
      "2024-07-07 22:52:22,547 - INFO - Loading data from ../data/faq_data.csv\n"
     ]
    },
    {
     "name": "stderr",
     "output_type": "stream",
     "text": [
      "2024-07-07 22:52:25,201 - INFO - Data loaded successfully, shape: (1000, 4)\n",
      "2024-07-07 22:52:25,201 - INFO -    ID                                            title  \\\n",
      "0  15               الشراء عن طريق البنوك الربوية حرام   \n",
      "1  32  لابد من حصر الورثة لتتم قسمة التركة بصورة شرعية   \n",
      "2  31   لا ينبغي للموظف أن يخالف الشرع ليحصل على إجازة   \n",
      "3  36                                 أحكام سجود السهو   \n",
      "4  30              إذا أرضعت الأخت أخاها صار ابناً لها   \n",
      "\n",
      "                                                ques  \\\n",
      "0  ما حكم شراء السيارة بالأقساط المريحة من بنك رب...   \n",
      "1  امرأة توفيت ولها مبلغ من المال ، ولها زوج طاعن...   \n",
      "2       ما حكم الإجازات المرضية فى حالة مرض أولادي ؟   \n",
      "3  ما هو سجود السهو ، كيفيته، ووقته؟ وما حكم من ش...   \n",
      "4  هل يمكن للأخت أن ترضع أخاها، في حال مرض الأم؟ ...   \n",
      "\n",
      "                                                 ans  \n",
      "0  فأساس عمل البنوك الربوية قائم على تعاطي الربا ...  \n",
      "1  الحمد لله والصلاة والسلام على رسول الله وآله و...  \n",
      "2  فالإجازة المرضية -فيما نعلم- تحتاج إلى تقرير ط...  \n",
      "3  الحمد لله والصلاة والسلام على رسول الله وآله و...  \n",
      "4  الحمد لله والصلاة والسلام على رسول الله وآله و...  \n",
      "2024-07-07 22:52:25,209 - INFO - Loading data took 2.66 seconds\n",
      "2024-07-07 22:52:25,209 - INFO - Creating embeddings for the 1000 titles in batches of 8\n",
      "Generating Embeddings: 100%|██████████| 1000/1000 [02:14<00:00,  7.44it/s]\n",
      "2024-07-07 22:54:39,553 - INFO - embeddings_ls length: 1000\n",
      "2024-07-07 22:54:39,553 - INFO - Creating embeddings for the 1000 questions in batches of 8\n",
      "Generating Embeddings: 100%|██████████| 1000/1000 [17:30<00:00,  1.05s/it]\n",
      "2024-07-07 23:12:09,717 - INFO - embeddings_ls length: 1000\n",
      "2024-07-07 23:12:09,717 - INFO - Embeddings created, shape: (1000, 2560)\n",
      "2024-07-07 23:12:09,717 - INFO - Creating embeddings took 1184.51 seconds\n",
      "2024-07-07 23:12:09,717 - INFO - Building FAISS index\n",
      "2024-07-07 23:12:09,732 - INFO - FAISS index built\n",
      "2024-07-07 23:12:09,732 - INFO - Building the index took 0.02 seconds\n"
     ]
    }
   ],
   "source": [
    "# Load data from a CSV file\n",
    "start_time = time.time()\n",
    "faiss_embedding.load_csv_data(csv_file_path, rows=1000)\n",
    "logging.info(f\"Loading data took {time.time() - start_time:.2f} seconds\")\n",
    "\n",
    "# Create embeddings for the questions\n",
    "start_time = time.time()\n",
    "faiss_embedding.create_embeddings()\n",
    "logging.info(f\"Creating embeddings took {time.time() - start_time:.2f} seconds\")\n",
    "\n",
    "# Build the FAISS index\n",
    "start_time = time.time()\n",
    "faiss_embedding.build_index()\n",
    "logging.info(f\"Building the index took {time.time() - start_time:.2f} seconds\")"
   ]
  },
  {
   "cell_type": "code",
   "execution_count": 11,
   "metadata": {},
   "outputs": [
    {
     "name": "stderr",
     "output_type": "stream",
     "text": [
      "2024-07-07 23:12:58,962 - INFO - Saving FAISS index to ../data/faiss_index_file_1k.index\n",
      "2024-07-07 23:12:58,977 - INFO - FAISS index and metadata saved\n",
      "2024-07-07 23:12:58,977 - INFO - Saving the index took 0.01 seconds\n"
     ]
    }
   ],
   "source": [
    "# Save the index to a file\n",
    "file_number = '1k'\n",
    "start_time = time.time()\n",
    "faiss_embedding.save_index(f'../data/faiss_index_file_{file_number}.index', f'../data/metadata_{file_number}.pkl')\n",
    "logging.info(f\"Saving the index took {time.time() - start_time:.2f} seconds\")"
   ]
  },
  {
   "cell_type": "code",
   "execution_count": 15,
   "metadata": {},
   "outputs": [
    {
     "name": "stderr",
     "output_type": "stream",
     "text": [
      "2024-07-07 23:14:15,650 - INFO - Loading FAISS index from ../data/faiss_index_file_1k.index\n",
      "2024-07-07 23:14:15,663 - INFO - FAISS index and metadata loaded\n",
      "2024-07-07 23:14:15,663 - INFO - Loading the index took 0.01 seconds\n",
      "2024-07-07 23:14:15,664 - INFO - Loading index and metadata..\n",
      "2024-07-07 23:14:15,664 - INFO - Loading FAISS index from ../data/faiss_index_file.index\n",
      "2024-07-07 23:14:15,671 - INFO - FAISS index and metadata loaded\n",
      "2024-07-07 23:14:15,672 - INFO - Searching for top 1 similar questions for the query: 'ما حكم الزكاة؟'\n",
      "2024-07-07 23:14:16,137 - INFO - Distances shape: (1, 1), type: <class 'numpy.ndarray'>\n",
      "2024-07-07 23:14:16,137 - INFO - [[288]]\n",
      "2024-07-07 23:14:16,137 - INFO - Search completed for query: 'ما حكم الزكاة؟'\n",
      "2024-07-07 23:14:16,137 - INFO - Results: [{'title': 'الحلي المعد للزينة هل تجب فيه الزكاة؟', 'question': 'سمعت أحد المشايخ يفتي بأن لا زكاة على المرأة التي تملك ذهباً للزينة وإن كان كثيراً ، هل هذا رأي من الآراء أفيدوني ؟', 'answer': 'الحمد لله والصلاة والسلام على رسول الله وعلى آله وصحبه أما بعد :\\n\\nفجمهور العلماء يذهبون إلى القول بأنه لا زكاة على حلي المرأة المعد للزينة، والمراد عندهم بالزينة مطلق الاستعمال سواء كان استعمالاً دائماً، أم كان استعمالاً في أوقات التزين فقط. وهذا القول بعدم الوجوب مروي عن خمسة من أصحاب النبي صلى الله عليه وسلم كلهم يقولون: لا زكاة في حلي النساء. وذهب الإمام أبو حنيفة رحمه الله تعالى إلى القول بوجوب الزكاة في الذهب الذي تعده المرأة للبس والتزين به، وهو الذي ذهب إليه بعض أهل العلم المعاصرين، مستدلين بحديث عبد الله بن عمرو بن العاص في المرأة التي جاءت إلى النبي صلى الله عليه وسلم وفي يد ابنتها مسكتان من ذهب، فقال لها النبي صلى الله عليه وسلم: أتعطين زكاة هذا؟ قالت: لا، قال: أيسرك أن يسورك الله بهما سوارين من نار.. إلخ الحديث. وفيه أنها رضي الله عنها ألقتهما، وقالت: \"هما لله ورسوله\".[ رواه أبو داود وحسنه الألباني] وغير ذلك من الأحاديث. وهناك رأي ثالث وهو أنه إذا كانت المرأة تستعمل الذهب للزينة طيلة السنة فلا زكاة عليه، وإن كانت تستخدمه فقط في المناسبات فإن عليه زكاة، وهذا غير منضبط كما لا يخفى . والأولى إخراج الزكاة، لمن كانت عنده سعة خروجاً من الخلاف، وتغليباً لحق الفقراء .\\nوالله أعلم.'}]\n",
      "2024-07-07 23:14:16,137 - INFO - Search took 0.47 seconds\n"
     ]
    }
   ],
   "source": [
    "import time\n",
    "import logging\n",
    "from FAISS import FAISSEmbedding\n",
    "from tokens import *\n",
    "\n",
    "# Configure logging\n",
    "logging.basicConfig(level=logging.INFO, format='%(asctime)s - %(levelname)s - %(message)s')\n",
    "\n",
    "if __name__ == \"__main__\":\n",
    "    # faiss_embedding = FAISSEmbedding()\n",
    "\n",
    "    # Load the index from a file with METRIC_INNER_PRODUCT assumed to be set during index creation\n",
    "    start_time = time.time()\n",
    "    # Assuming load_index can accept a metric parameter or the index is already using METRIC_INNER_PRODUCT\n",
    "    faiss_embedding.load_index('../data/faiss_index_file_1k.index', '../data/metadata_1k.pkl')\n",
    "    logging.info(f\"Loading the index took {time.time() - start_time:.2f} seconds\")\n",
    "\n",
    "    # Perform a search for the top-k similar questions\n",
    "    query = \"ما حكم الزكاة؟\"\n",
    "    start_time = time.time()\n",
    "    result = faiss_embedding.search(query, top_k=1)\n",
    "    logging.info(f\"Search took {time.time() - start_time:.2f} seconds\")"
   ]
  }
 ],
 "metadata": {
  "kernelspec": {
   "display_name": "base",
   "language": "python",
   "name": "python3"
  },
  "language_info": {
   "codemirror_mode": {
    "name": "ipython",
    "version": 3
   },
   "file_extension": ".py",
   "mimetype": "text/x-python",
   "name": "python",
   "nbconvert_exporter": "python",
   "pygments_lexer": "ipython3",
   "version": "3.11.5"
  }
 },
 "nbformat": 4,
 "nbformat_minor": 2
}
