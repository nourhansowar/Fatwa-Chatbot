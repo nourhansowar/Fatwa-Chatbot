{
 "cells": [
  {
   "cell_type": "code",
   "execution_count": 1,
   "metadata": {},
   "outputs": [
    {
     "name": "stderr",
     "output_type": "stream",
     "text": [
      "c:\\miniconda3\\envs\\faiss_env\\Lib\\site-packages\\tqdm\\auto.py:21: TqdmWarning: IProgress not found. Please update jupyter and ipywidgets. See https://ipywidgets.readthedocs.io/en/stable/user_install.html\n",
      "  from .autonotebook import tqdm as notebook_tqdm\n",
      "2024-07-06 19:23:14,140 - INFO - Initializing FAISS embedding class\n"
     ]
    }
   ],
   "source": [
    "from FAISS import *\n",
    "from tokens import TOKEN_API\n",
    "csv_file_path = '../data/faq_data.csv'\n",
    "\n",
    "if __name__ == \"__main__\":\n",
    "    \n",
    "    # Use the model from the CohereForAI collection\n",
    "    # model_name = \"CohereForAI/aya-23-35B\"\n",
    "    model_name = \"aubmindlab/aragpt2-large\"\n",
    "    # model_name = 'core42/jais-13b'\n",
    "    faiss_embedding = FAISSEmbedding(model_name, TOKEN_API)"
   ]
  },
  {
   "cell_type": "code",
   "execution_count": null,
   "metadata": {},
   "outputs": [],
   "source": [
    "# Load data from a CSV file\n",
    "start_time = time.time()\n",
    "faiss_embedding.load_csv_data(csv_file_path)\n",
    "logging.info(f\"Loading data took {time.time() - start_time:.2f} seconds\")\n",
    "\n",
    "# Create embeddings for the questions\n",
    "start_time = time.time()\n",
    "faiss_embedding.create_embeddings(batch_size=32)\n",
    "logging.info(f\"Creating embeddings took {time.time() - start_time:.2f} seconds\")\n",
    "\n",
    "# Build the FAISS index\n",
    "start_time = time.time()\n",
    "faiss_embedding.build_index()\n",
    "logging.info(f\"Building the index took {time.time() - start_time:.2f} seconds\")"
   ]
  },
  {
   "cell_type": "code",
   "execution_count": 3,
   "metadata": {},
   "outputs": [
    {
     "name": "stderr",
     "output_type": "stream",
     "text": [
      "2024-07-06 19:54:18,644 - INFO - Saving FAISS index to ../data/faiss_index_file.bin\n",
      "2024-07-06 19:54:18,687 - INFO - FAISS index and metadata saved\n",
      "2024-07-06 19:54:18,694 - INFO - Saving the index took 0.05 seconds\n"
     ]
    }
   ],
   "source": [
    "# Save the index to a file\n",
    "start_time = time.time()\n",
    "faiss_embedding.save_index('../data/faiss_index_file.bin', '../data/metadata.json')\n",
    "logging.info(f\"Saving the index took {time.time() - start_time:.2f} seconds\")"
   ]
  },
  {
   "cell_type": "code",
   "execution_count": 16,
   "metadata": {},
   "outputs": [
    {
     "name": "stderr",
     "output_type": "stream",
     "text": [
      "2024-07-06 21:30:47,258 - INFO - Initializing FAISS embedding class\n",
      "2024-07-06 21:30:53,353 - INFO - Loading FAISS index from ../data/faiss_index_file.bin\n",
      "2024-07-06 21:30:53,369 - INFO - FAISS index and metadata loaded\n",
      "2024-07-06 21:30:53,369 - INFO - Loading the index took 0.02 seconds\n",
      "2024-07-06 21:30:53,369 - INFO - Searching for top 1 similar questions for the query: 'ما حكم شراء السيارة بالأقساط المريحة من بنك ربوي وتعامله مثل تعامل البنوك الإسلامية'\n",
      "2024-07-06 21:30:53,950 - INFO - Search completed for query: 'ما حكم شراء السيارة بالأقساط المريحة من بنك ربوي وتعامله مثل تعامل البنوك الإسلامية'\n",
      "2024-07-06 21:30:53,966 - INFO - Results: [{'title': 'يجوز لك شراء الماكينة إذا خلت الأقساط من الربا', 'question': 'السلام عليكم ورحمة الله اشترى شخص ماكينة عن طريق قرض ربوي من أحدى البنوك ولم يستطع تسديد الدفعات الشهرية المستحقة لذلك. عرض هذه الماكينة للبيع فهل يجوز شراء الماكينة ثم أكمل الأقساط الشهرية للبنك', 'answer': 'الحمد لله والصلاة والسلام على رسول الله وعلى آله وصحبه وسلم أما بعد:\\nإذا كانت هذه الماكينة التي يبيعها صاحبها خالية من الربا بمعنى ليس عليها أقساط ربوية فلا حرج عليك في شرائها، وأما إذا كانت هذه الأقساط التي ستدفعها عن صاحب الماكينة للبنك خالية من الربا بمعنى أنك لا تلزم بدفع فوائد إذا تأخرت في قسط من الأقساط فلا حرج في أن تشتري الماكينة وتسدد تلك الأقساط، وإن كانت على هذه الأقساط فوائد تأخير عن أي قسط فلا يجوز لك الدخول في سداد. واعلم أخي الكريم أن الربا عاقبته وخيمة في الدنيا قبل الآخرة لمن لم يتب منه قال تعالى: (فإن لم تفعلوا فأذنوا بحرب من الله ورسوله) [البقرة: 279]. وهذا الذي حدث مع صاحبك خير برهان على ذلك.'}]\n",
      "2024-07-06 21:30:53,966 - INFO - Distances: [[1170.498]]\n",
      "2024-07-06 21:30:54,144 - INFO - Search took 0.78 seconds\n"
     ]
    }
   ],
   "source": [
    "import time\n",
    "import logging\n",
    "from FAISS import FAISSEmbedding\n",
    "from tokens import TOKEN_API\n",
    "\n",
    "# Configure logging\n",
    "logging.basicConfig(level=logging.INFO, format='%(asctime)s - %(levelname)s - %(message)s')\n",
    "\n",
    "if __name__ == \"__main__\":\n",
    "    model_name = \"aubmindlab/aragpt2-large\"\n",
    "    faiss_embedding = FAISSEmbedding(model_name, TOKEN_API)\n",
    "\n",
    "    # Load the index from a file with METRIC_INNER_PRODUCT assumed to be set during index creation\n",
    "    start_time = time.time()\n",
    "    # Assuming load_index can accept a metric parameter or the index is already using METRIC_INNER_PRODUCT\n",
    "    faiss_embedding.load_index('../data/faiss_index_file.bin', '../data/metadata.pkl')\n",
    "    logging.info(f\"Loading the index took {time.time() - start_time:.2f} seconds\")\n",
    "\n",
    "    # Perform a search for the top-k similar questions\n",
    "    query = \"ما حكم شراء السيارة بالأقساط المريحة من بنك ربوي وتعامله مثل تعامل البنوك الإسلامية\"\n",
    "    start_time = time.time()\n",
    "    result = faiss_embedding.search(query, top_k=1)\n",
    "    logging.info(f\"Search took {time.time() - start_time:.2f} seconds\")"
   ]
  }
 ],
 "metadata": {
  "kernelspec": {
   "display_name": "base",
   "language": "python",
   "name": "python3"
  },
  "language_info": {
   "codemirror_mode": {
    "name": "ipython",
    "version": 3
   },
   "file_extension": ".py",
   "mimetype": "text/x-python",
   "name": "python",
   "nbconvert_exporter": "python",
   "pygments_lexer": "ipython3",
   "version": "3.11.5"
  }
 },
 "nbformat": 4,
 "nbformat_minor": 2
}
