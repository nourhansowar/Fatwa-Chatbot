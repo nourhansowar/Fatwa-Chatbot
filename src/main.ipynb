{
 "cells": [
  {
   "cell_type": "code",
   "execution_count": 1,
   "metadata": {},
   "outputs": [
    {
     "name": "stderr",
     "output_type": "stream",
     "text": [
      "c:\\miniconda3\\envs\\faiss_env\\Lib\\site-packages\\tqdm\\auto.py:21: TqdmWarning: IProgress not found. Please update jupyter and ipywidgets. See https://ipywidgets.readthedocs.io/en/stable/user_install.html\n",
      "  from .autonotebook import tqdm as notebook_tqdm\n"
     ]
    },
    {
     "name": "stdout",
     "output_type": "stream",
     "text": [
      "Initializing FAISS embedding class\n",
      "Initializing tokenizer \n",
      "Initializing Model \n"
     ]
    }
   ],
   "source": [
    "from FAISS import *\n",
    "from tokens import *\n",
    "csv_file_path = '../data/faq_data.csv'\n",
    "\n",
    "if __name__ == \"__main__\":\n",
    "    \n",
    "    faiss_embedding = FAISSEmbedding()"
   ]
  },
  {
   "cell_type": "code",
   "execution_count": 2,
   "metadata": {},
   "outputs": [
    {
     "name": "stderr",
     "output_type": "stream",
     "text": [
      "2024-07-07 22:36:13,176 - INFO - Loading data from ../data/faq_data.csv\n",
      "2024-07-07 22:36:15,586 - INFO - Data loaded successfully, shape: (200, 4)\n",
      "2024-07-07 22:36:15,592 - INFO -    ID                                            title  \\\n",
      "0  15               الشراء عن طريق البنوك الربوية حرام   \n",
      "1  32  لابد من حصر الورثة لتتم قسمة التركة بصورة شرعية   \n",
      "2  31   لا ينبغي للموظف أن يخالف الشرع ليحصل على إجازة   \n",
      "3  36                                 أحكام سجود السهو   \n",
      "4  30              إذا أرضعت الأخت أخاها صار ابناً لها   \n",
      "\n",
      "                                                ques  \\\n",
      "0  ما حكم شراء السيارة بالأقساط المريحة من بنك رب...   \n",
      "1  امرأة توفيت ولها مبلغ من المال ، ولها زوج طاعن...   \n",
      "2       ما حكم الإجازات المرضية فى حالة مرض أولادي ؟   \n",
      "3  ما هو سجود السهو ، كيفيته، ووقته؟ وما حكم من ش...   \n",
      "4  هل يمكن للأخت أن ترضع أخاها، في حال مرض الأم؟ ...   \n",
      "\n",
      "                                                 ans  \n",
      "0  فأساس عمل البنوك الربوية قائم على تعاطي الربا ...  \n",
      "1  الحمد لله والصلاة والسلام على رسول الله وآله و...  \n",
      "2  فالإجازة المرضية -فيما نعلم- تحتاج إلى تقرير ط...  \n",
      "3  الحمد لله والصلاة والسلام على رسول الله وآله و...  \n",
      "4  الحمد لله والصلاة والسلام على رسول الله وآله و...  \n",
      "2024-07-07 22:36:15,592 - INFO - Loading data took 2.42 seconds\n",
      "2024-07-07 22:36:15,592 - INFO - Creating embeddings for the 200 titles in batches of 8\n",
      "Generating Embeddings: 100%|██████████| 200/200 [00:27<00:00,  7.41it/s]\n",
      "2024-07-07 22:36:42,597 - INFO - embeddings_ls length: 200\n",
      "2024-07-07 22:36:42,597 - INFO - Creating embeddings for the 200 questions in batches of 8\n",
      "Generating Embeddings: 100%|██████████| 200/200 [02:19<00:00,  1.44it/s]\n",
      "2024-07-07 22:39:01,930 - INFO - embeddings_ls length: 200\n",
      "2024-07-07 22:39:01,930 - INFO - Embeddings created, shape: (200, 2560)\n",
      "2024-07-07 22:39:01,930 - INFO - Creating embeddings took 166.34 seconds\n",
      "2024-07-07 22:39:01,930 - INFO - Building FAISS index\n",
      "2024-07-07 22:39:01,930 - INFO - FAISS index built\n",
      "2024-07-07 22:39:01,940 - INFO - Building the index took 0.01 seconds\n"
     ]
    }
   ],
   "source": [
    "# Load data from a CSV file\n",
    "start_time = time.time()\n",
    "faiss_embedding.load_csv_data(csv_file_path, rows=200)\n",
    "logging.info(f\"Loading data took {time.time() - start_time:.2f} seconds\")\n",
    "\n",
    "# Create embeddings for the questions\n",
    "start_time = time.time()\n",
    "faiss_embedding.create_embeddings()\n",
    "logging.info(f\"Creating embeddings took {time.time() - start_time:.2f} seconds\")\n",
    "\n",
    "# Build the FAISS index\n",
    "start_time = time.time()\n",
    "faiss_embedding.build_index()\n",
    "logging.info(f\"Building the index took {time.time() - start_time:.2f} seconds\")"
   ]
  },
  {
   "cell_type": "code",
   "execution_count": 5,
   "metadata": {},
   "outputs": [
    {
     "name": "stderr",
     "output_type": "stream",
     "text": [
      "2024-07-07 22:39:54,890 - INFO - Saving FAISS index to ../data/faiss_index_file_1.index\n",
      "2024-07-07 22:39:54,892 - INFO - FAISS index and metadata saved\n",
      "2024-07-07 22:39:54,894 - INFO - Saving the index took 0.00 seconds\n"
     ]
    }
   ],
   "source": [
    "# Save the index to a file\n",
    "file_number = 1\n",
    "start_time = time.time()\n",
    "faiss_embedding.save_index(f'../data/faiss_index_file_{file_number}.index', f'../data/metadata_{file_number}.pkl')\n",
    "logging.info(f\"Saving the index took {time.time() - start_time:.2f} seconds\")"
   ]
  },
  {
   "cell_type": "code",
   "execution_count": 8,
   "metadata": {},
   "outputs": [
    {
     "name": "stdout",
     "output_type": "stream",
     "text": [
      "Initializing FAISS embedding class\n",
      "Initializing tokenizer \n",
      "Initializing Model \n"
     ]
    },
    {
     "name": "stderr",
     "output_type": "stream",
     "text": [
      "2024-07-07 22:41:11,174 - INFO - Loading FAISS index from ../data/faiss_index_file.index\n",
      "2024-07-07 22:41:11,183 - INFO - FAISS index and metadata loaded\n",
      "2024-07-07 22:41:11,183 - INFO - Loading the index took 0.01 seconds\n",
      "2024-07-07 22:41:11,183 - INFO - Loading index and metadata..\n",
      "2024-07-07 22:41:11,183 - INFO - Loading FAISS index from ../data/faiss_index_file.index\n",
      "2024-07-07 22:41:11,191 - INFO - FAISS index and metadata loaded\n",
      "2024-07-07 22:41:11,192 - INFO - Searching for top 1 similar questions for the query: 'الربا'\n",
      "2024-07-07 22:41:11,531 - INFO - Distances shape: (1, 1), type: <class 'numpy.ndarray'>\n",
      "2024-07-07 22:41:11,531 - INFO - [[0]]\n",
      "2024-07-07 22:41:11,531 - INFO - Search completed for query: 'الربا'\n",
      "2024-07-07 22:41:11,531 - INFO - Results: [{'title': 'الشراء عن طريق البنوك الربوية حرام', 'question': 'ما حكم شراء السيارة بالأقساط المريحة من بنك ربوي وتعامله مثل تعامل البنوك الإسلامية.. علما أن تعامل هذه البنوك الربوية يفوق احتراما تعامل البنوك الإسلامية؟ ولكم مني كل جزيل الشكر والاحترام.', 'answer': 'الحمد لله والصلاة والسلام على رسول الله وعلى آله وصحبه أما بعد:\\nفأساس عمل البنوك الربوية قائم على تعاطي الربا المحرم إقراضا وقرضا، ولا تمارس - فيما نعلم - البيع بالتقسيط المنضبط بالضوابط الشرعية، التي من أهمها:\\nأ - أن يكون البنك مالكا للسيارة ملكا حقيقيا قبل بيعها للعميل.\\nب - أن يبيع البنك السيارة للعميل بثمن محدد عند العقد، ولو كان ذلك الثمن أكثر من قيمتها السوقية.\\nج – أن لا يترتب على التأخر في دفع قسط أو أقساط إضافةُ فوائد على المبلغ الذي أبرم العقد عليه.\\nوإذا كان البنك لا يشتري السيارة شراء حقيقياً، وإنما يدفع ثمنها نيابة عن العميل، ثم يسترد منه ذلك الثمن مقسطاً مضافا إليه الأرباح، فإن هذا لا يجوز، لأن حقيقة هذه المعاملة أن البنك أقرض العميل ثمن السيارة على أن يرده إليه بزيادة، وهذا عين القرض الربوي المحرم تحريما غليظا. وهذا النوع من التعامل هو السائد في معاملات البنوك الربوية.\\nوعليه فالأصل أنه لا يجوز التعامل مع البنوك الربوية، لأن التعامل معها إما أن يكون في معاملة ربوية، فهذا لا يجوز قطعا، وقد توعد الله أطراف الربا أشد وعيد، حيث قال: {يَاأَيُّهَا الَّذِينَ آمَنُوا اتَّقُوا اللَّهَ وَذَرُوا مَا بَقِيَ مِنَ الرِّبَا إِنْ كُنْتُمْ مُؤْمِنِينَ * فَإِنْ لَمْ تَفْعَلُوا فَأْذَنُوا بِحَرْبٍ مِنَ اللَّهِ وَرَسُولِهِ وَإِنْ تُبْتُمْ فَلَكُمْ رُءُوسُ أَمْوَالِكُمْ لَا تَظْلِمُونَ وَلَا تُظْلَمُونَ} [البقرة: 278 - 280] وفي صحيح مسلم عَنْ جَابِرٍ – رضي الله عنه -، قَالَ: «لَعَنَ رَسُولُ اللهِ صَلَّى اللهُ عَلَيْهِ وَسَلَّمَ آكِلَ الرِّبَا، وَمُؤْكِلَهُ، وَكَاتِبَهُ، وَشَاهِدَيْهِ»، وَقَالَ: «هُمْ سَوَاءٌ» ومؤكل الربا هو المتعامل مع المرابي في معاملة ربوية.\\nوإما أن يكون التعامل مع البنك الربوي في معاملة مشروعة منضبطة بالضوابط الشرعية، فهذا فيه نوع من العون للبنك على الاستمرار في عمله المحرم، والله تعالى يقول: {وَتَعَاوَنُوا عَلَى الْبِرِّ وَالتَّقْوَى وَلَا تَعَاوَنُوا عَلَى الْإِثْمِ وَالْعُدْوَانِ وَاتَّقُوا اللَّهَ إِنَّ اللَّهَ شَدِيدُ الْعِقَابِ} [المائدة: 2]\\nفمن يجد بنكا إسلاميا يمكنه التعامل معه وتندفع به حاجته فليس له التعامل مع البنوك الربوية ولو كانت المعاملة مشروعة في ذاتها. جاء في قرار مجمع الفقه الإسلامي: ... ويحرم التعامل مع البنوك الربوية في جميع المعاملات المحظورة شرعًا. ويتعين على المسلم التعامل مع المصارف الإسلامية إن أمكن ذلك؛ توقيًا من الوقوع في الحرام أو الإعانة عليه. ثالثا- يحرم على كل مسلم يتيسر له التعامل مع مصرف إسلامي أن يتعامل مع المصارف الربوية في الداخل أو الخارج، إذ لا عذر له في التعامل معها مع وجود البديل الإسلامي، ويجب عليه أن يستعيض عن الخبيث بالطيب، ويستغني بالحلال عن الحرام. انتهى.\\nأما من لم يجد بنكا إسلاميا، فله أن يتعامل مع البنك الربوي، وعليه أن يحرص في هذه الحالة أن يكون التعامل موافقا لأحكام الشريعة الإسلامية.\\nوالمؤمن إذ يسمع الوعيد الشديد والتنفير البالغ من الربا ومن المرابين في نصوص الشريعة المتضافرة، فلا يليق به أن يغريه ما يُقدِّمه البنك الربوي من تسهيلات وإغراءات خداعة.  \\nوالله أعلم .'}]\n",
      "2024-07-07 22:41:11,531 - INFO - Search took 0.35 seconds\n"
     ]
    }
   ],
   "source": [
    "import time\n",
    "import logging\n",
    "from FAISS import FAISSEmbedding\n",
    "from tokens import *\n",
    "\n",
    "# Configure logging\n",
    "logging.basicConfig(level=logging.INFO, format='%(asctime)s - %(levelname)s - %(message)s')\n",
    "\n",
    "if __name__ == \"__main__\":\n",
    "    faiss_embedding = FAISSEmbedding()\n",
    "\n",
    "    # Load the index from a file with METRIC_INNER_PRODUCT assumed to be set during index creation\n",
    "    start_time = time.time()\n",
    "    # Assuming load_index can accept a metric parameter or the index is already using METRIC_INNER_PRODUCT\n",
    "    faiss_embedding.load_index('../data/faiss_index_file.index', '../data/metadata.pkl')\n",
    "    logging.info(f\"Loading the index took {time.time() - start_time:.2f} seconds\")\n",
    "\n",
    "    # Perform a search for the top-k similar questions\n",
    "    query = \"الربا\"\n",
    "    start_time = time.time()\n",
    "    result = faiss_embedding.search(query, top_k=1)\n",
    "    logging.info(f\"Search took {time.time() - start_time:.2f} seconds\")"
   ]
  }
 ],
 "metadata": {
  "kernelspec": {
   "display_name": "base",
   "language": "python",
   "name": "python3"
  },
  "language_info": {
   "codemirror_mode": {
    "name": "ipython",
    "version": 3
   },
   "file_extension": ".py",
   "mimetype": "text/x-python",
   "name": "python",
   "nbconvert_exporter": "python",
   "pygments_lexer": "ipython3",
   "version": "3.11.5"
  }
 },
 "nbformat": 4,
 "nbformat_minor": 2
}
